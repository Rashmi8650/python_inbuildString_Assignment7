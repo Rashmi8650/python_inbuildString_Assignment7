{
 "cells": [
  {
   "cell_type": "markdown",
   "id": "fe3f5f97",
   "metadata": {},
   "source": [
    "# Inbuild String (Assignment_7)\n"
   ]
  },
  {
   "cell_type": "markdown",
   "id": "7b8ad3bd",
   "metadata": {},
   "source": [
    "# Ques==>1. What is the purpose of the len() function in Python, and how can it be used with strings?\n",
    "\n",
    "Ans==> The len() function is used in python to calculate the length of the string.\n",
    "       we can simply use that by following the syntax :- len(String_name)"
   ]
  },
  {
   "cell_type": "code",
   "execution_count": 4,
   "id": "4b66cbe9",
   "metadata": {},
   "outputs": [
    {
     "data": {
      "text/plain": [
       "25"
      ]
     },
     "execution_count": 4,
     "metadata": {},
     "output_type": "execute_result"
    }
   ],
   "source": [
    "#example of length function\n",
    "string1=\"My name is Rashmi Sharma,\"\n",
    "len(string1)"
   ]
  },
  {
   "cell_type": "markdown",
   "id": "842556f9",
   "metadata": {},
   "source": [
    "# Ques==> 2. How can you concatenate two or more strings in Python, and can you provide an example of string concatination?\n",
    "\n",
    "Ans ==> we can concatenate to or more string in python by using :- + operator"
   ]
  },
  {
   "cell_type": "code",
   "execution_count": 5,
   "id": "8aa7f401",
   "metadata": {},
   "outputs": [
    {
     "name": "stdout",
     "output_type": "stream",
     "text": [
      "My name is Rashmi Sharma, I want to become a Data Scientist.\n"
     ]
    }
   ],
   "source": [
    "#example of concatenation\n",
    "string2=\" I want to become a Data Scientist.\"\n",
    "s1=string1+string2\n",
    "print(s1)"
   ]
  },
  {
   "cell_type": "markdown",
   "id": "29cb4a1a",
   "metadata": {},
   "source": [
    "# Ques==>3. What is string slicing in Python, and how can you extract a portion of a string using this method?\n",
    "\n",
    "Ans==> The string slicing is a concept that is used to determine the substring from the given string.\n",
    "       The syntax of sclicing is :- String_name[starting_index : ending_index : Steps]"
   ]
  },
  {
   "cell_type": "code",
   "execution_count": 7,
   "id": "8287b347",
   "metadata": {},
   "outputs": [
    {
     "data": {
      "text/plain": [
       "'Rashmi Sharma'"
      ]
     },
     "execution_count": 7,
     "metadata": {},
     "output_type": "execute_result"
    }
   ],
   "source": [
    "#example of sclicing\n",
    "string1[11:24:1]"
   ]
  },
  {
   "cell_type": "markdown",
   "id": "f69a82b3",
   "metadata": {},
   "source": [
    "# Ques==>4. How can you change the case of a string in Python, and can you provide examples of both making a string all uppercase and all lowercase?\n",
    "\n",
    "Ans==> We can change the case of a string by using different function like:-string_name.upper() , string_name.lower() \n",
    "                                                                            string_name.swapcase() , string_name.capitalize()"
   ]
  },
  {
   "cell_type": "code",
   "execution_count": 8,
   "id": "3b9a91e2",
   "metadata": {},
   "outputs": [
    {
     "data": {
      "text/plain": [
       "'my name is rashmi sharma, i want to become a data scientist.'"
      ]
     },
     "execution_count": 8,
     "metadata": {},
     "output_type": "execute_result"
    }
   ],
   "source": [
    "#example of case\n",
    "s1.lower()"
   ]
  },
  {
   "cell_type": "code",
   "execution_count": 9,
   "id": "b7ec2606",
   "metadata": {},
   "outputs": [
    {
     "data": {
      "text/plain": [
       "'MY NAME IS RASHMI SHARMA, I WANT TO BECOME A DATA SCIENTIST.'"
      ]
     },
     "execution_count": 9,
     "metadata": {},
     "output_type": "execute_result"
    }
   ],
   "source": [
    "s1.upper()"
   ]
  },
  {
   "cell_type": "markdown",
   "id": "f9a37cb7",
   "metadata": {},
   "source": [
    "# Ques==> 5. What does the split() method do in Python, and how can you split a string using a specific delimiter?\n",
    "\n",
    "Ans==> The split method is used to covert the whole string in the form of list by using split() function."
   ]
  },
  {
   "cell_type": "code",
   "execution_count": 10,
   "id": "9666f73e",
   "metadata": {},
   "outputs": [
    {
     "name": "stdout",
     "output_type": "stream",
     "text": [
      "['My', 'name', 'is', 'Rashmi', 'Sharma,', 'I', 'want', 'to', 'become', 'a', 'Data', 'Scientist.']\n"
     ]
    }
   ],
   "source": [
    "#Example of string\n",
    "s2=s1.split()\n",
    "print(s2)"
   ]
  },
  {
   "cell_type": "code",
   "execution_count": null,
   "id": "6e25f15a",
   "metadata": {},
   "outputs": [],
   "source": []
  }
 ],
 "metadata": {
  "kernelspec": {
   "display_name": "Python 3 (ipykernel)",
   "language": "python",
   "name": "python3"
  },
  "language_info": {
   "codemirror_mode": {
    "name": "ipython",
    "version": 3
   },
   "file_extension": ".py",
   "mimetype": "text/x-python",
   "name": "python",
   "nbconvert_exporter": "python",
   "pygments_lexer": "ipython3",
   "version": "3.11.5"
  }
 },
 "nbformat": 4,
 "nbformat_minor": 5
}
